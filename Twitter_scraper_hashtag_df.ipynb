{
 "cells": [
  {
   "cell_type": "code",
   "execution_count": 1,
   "metadata": {},
   "outputs": [],
   "source": [
    "import pandas as pd\n",
    "\n",
    "import csv\n",
    "from time import sleep\n",
    "from getpass import getpass\n",
    "\n",
    "from selenium.webdriver import Chrome\n",
    "from selenium.webdriver.common.keys import Keys\n",
    "from selenium.common.exceptions import NoSuchElementException"
   ]
  },
  {
   "cell_type": "code",
   "execution_count": 2,
   "metadata": {},
   "outputs": [],
   "source": [
    "driver = Chrome()"
   ]
  },
  {
   "cell_type": "code",
   "execution_count": 3,
   "metadata": {},
   "outputs": [],
   "source": [
    "driver.get('https://www.twitter.com/login')"
   ]
  },
  {
   "cell_type": "code",
   "execution_count": 4,
   "metadata": {},
   "outputs": [],
   "source": [
    "username = driver.find_element_by_xpath('//input[@name=\"session[username_or_email]\"]')"
   ]
  },
  {
   "cell_type": "code",
   "execution_count": 5,
   "metadata": {},
   "outputs": [],
   "source": [
    "username.send_keys('user')"
   ]
  },
  {
   "cell_type": "code",
   "execution_count": null,
   "metadata": {},
   "outputs": [],
   "source": [
    "my_password = getpass()"
   ]
  },
  {
   "cell_type": "code",
   "execution_count": 7,
   "metadata": {},
   "outputs": [],
   "source": [
    "password = driver.find_element_by_xpath('//input[@name=\"session[password]\"]')"
   ]
  },
  {
   "cell_type": "code",
   "execution_count": 8,
   "metadata": {},
   "outputs": [],
   "source": [
    "password.send_keys(my_password)"
   ]
  },
  {
   "cell_type": "code",
   "execution_count": 9,
   "metadata": {},
   "outputs": [],
   "source": [
    "password.send_keys(Keys.RETURN)"
   ]
  },
  {
   "cell_type": "code",
   "execution_count": 12,
   "metadata": {},
   "outputs": [],
   "source": [
    "search_input = driver.find_element_by_xpath('//input[@aria-label=\"Búsqueda\"]')"
   ]
  },
  {
   "cell_type": "code",
   "execution_count": 13,
   "metadata": {},
   "outputs": [],
   "source": [
    "#text\n",
    "search_input.send_keys('#Bitcoin')"
   ]
  },
  {
   "cell_type": "code",
   "execution_count": 14,
   "metadata": {},
   "outputs": [],
   "source": [
    "#enter\n",
    "search_input.send_keys(Keys.RETURN)"
   ]
  },
  {
   "cell_type": "code",
   "execution_count": 15,
   "metadata": {},
   "outputs": [],
   "source": [
    "driver.find_element_by_link_text('Más reciente').click()"
   ]
  },
  {
   "cell_type": "code",
   "execution_count": 19,
   "metadata": {},
   "outputs": [],
   "source": [
    "cards = driver.find_elements_by_xpath('//div[@data-testid=\"tweet\"]')"
   ]
  },
  {
   "cell_type": "code",
   "execution_count": 20,
   "metadata": {},
   "outputs": [],
   "source": [
    "card = cards[0]"
   ]
  },
  {
   "cell_type": "code",
   "execution_count": 21,
   "metadata": {},
   "outputs": [
    {
     "data": {
      "text/plain": [
       "'Cryptoify'"
      ]
     },
     "execution_count": 21,
     "metadata": {},
     "output_type": "execute_result"
    }
   ],
   "source": [
    "#username\n",
    "card.find_element_by_xpath('./div[2]/div[1]//span').text"
   ]
  },
  {
   "cell_type": "code",
   "execution_count": 22,
   "metadata": {},
   "outputs": [
    {
     "data": {
      "text/plain": [
       "'Cryptoify'"
      ]
     },
     "execution_count": 22,
     "metadata": {},
     "output_type": "execute_result"
    }
   ],
   "source": [
    "#username\n",
    "card.find_element_by_xpath('.//span').text"
   ]
  },
  {
   "cell_type": "code",
   "execution_count": 23,
   "metadata": {},
   "outputs": [
    {
     "data": {
      "text/plain": [
       "'@cryptoify'"
      ]
     },
     "execution_count": 23,
     "metadata": {},
     "output_type": "execute_result"
    }
   ],
   "source": [
    "#twitter_handle\n",
    "card.find_element_by_xpath('.//span[contains(text(),\"@\")]').text"
   ]
  },
  {
   "cell_type": "code",
   "execution_count": 24,
   "metadata": {},
   "outputs": [
    {
     "data": {
      "text/plain": [
       "'2021-05-26T18:18:10.000Z'"
      ]
     },
     "execution_count": 24,
     "metadata": {},
     "output_type": "execute_result"
    }
   ],
   "source": [
    "#postdate\n",
    "card.find_element_by_xpath('.//time').get_attribute('datetime')"
   ]
  },
  {
   "cell_type": "code",
   "execution_count": 25,
   "metadata": {},
   "outputs": [],
   "source": [
    "#content of tweet\n",
    "comment = card.find_element_by_xpath('./div[2]/div[2]/div[1]').text\n",
    "responding = card.find_element_by_xpath('./div[2]/div[2]/div[2]').text"
   ]
  },
  {
   "cell_type": "code",
   "execution_count": 26,
   "metadata": {},
   "outputs": [
    {
     "data": {
      "text/plain": [
       "'US Regulators Urgently Working on Joint #Cryptocurrency Regulation: Fed\\'s Quarles Says It\\'s \\'High Priority\\' – Regulation #Bitcoin NewsUS Regulators Urgently Working on Joint Cryptocurrency Regulation: Fed\\'s Quarles Says It\\'s \\'High...\\nU.S. government agencies are urgently working together on a joint regulatory framework for cryptocurrencies, Federal Reserve Vice Chair of Supervision Randal Quarles has confirmed. \"We along with the...\\nnews.bitcoin.com'"
      ]
     },
     "execution_count": 26,
     "metadata": {},
     "output_type": "execute_result"
    }
   ],
   "source": [
    "comment + responding"
   ]
  },
  {
   "cell_type": "code",
   "execution_count": 27,
   "metadata": {},
   "outputs": [
    {
     "data": {
      "text/plain": [
       "''"
      ]
     },
     "execution_count": 27,
     "metadata": {},
     "output_type": "execute_result"
    }
   ],
   "source": [
    "#reply count\n",
    "card.find_element_by_xpath('.//div[@data-testid=\"reply\"]').text"
   ]
  },
  {
   "cell_type": "code",
   "execution_count": 28,
   "metadata": {},
   "outputs": [
    {
     "data": {
      "text/plain": [
       "''"
      ]
     },
     "execution_count": 28,
     "metadata": {},
     "output_type": "execute_result"
    }
   ],
   "source": [
    "#retweet\n",
    "card.find_element_by_xpath('.//div[@data-testid=\"retweet\"]').text"
   ]
  },
  {
   "cell_type": "code",
   "execution_count": 29,
   "metadata": {},
   "outputs": [
    {
     "data": {
      "text/plain": [
       "''"
      ]
     },
     "execution_count": 29,
     "metadata": {},
     "output_type": "execute_result"
    }
   ],
   "source": [
    "#likes\n",
    "card.find_element_by_xpath('.//div[@data-testid=\"like\"]').text"
   ]
  },
  {
   "cell_type": "code",
   "execution_count": 30,
   "metadata": {},
   "outputs": [],
   "source": [
    "def get_tweet_data(card):\n",
    "    username = card.find_element_by_xpath('.//span').text\n",
    "    handle = card.find_element_by_xpath('.//span[contains(text(),\"@\")]').text\n",
    "    try:\n",
    "        postdate = card.find_element_by_xpath('.//time').get_attribute('datetime')\n",
    "    except NoSuchElementException:\n",
    "        return\n",
    "    comment = card.find_element_by_xpath('./div[2]/div[2]/div[1]').text\n",
    "    responding = card.find_element_by_xpath('./div[2]/div[2]/div[2]').text\n",
    "    text = comment + responding\n",
    "    \n",
    "    reply_cnt = card.find_element_by_xpath('.//div[@data-testid=\"reply\"]').text\n",
    "    retweet_cnt = card.find_element_by_xpath('.//div[@data-testid=\"retweet\"]').text\n",
    "    like_cnt = card.find_element_by_xpath('.//div[@data-testid=\"like\"]').text\n",
    "    \n",
    "    tweet = (username, handle, postdate, text, reply_cnt, retweet_cnt, like_cnt)\n",
    "    \n",
    "    return tweet"
   ]
  },
  {
   "cell_type": "code",
   "execution_count": 31,
   "metadata": {},
   "outputs": [
    {
     "data": {
      "text/plain": [
       "('Cryptoify',\n",
       " '@cryptoify',\n",
       " '2021-05-26T18:18:10.000Z',\n",
       " 'US Regulators Urgently Working on Joint #Cryptocurrency Regulation: Fed\\'s Quarles Says It\\'s \\'High Priority\\' – Regulation #Bitcoin NewsUS Regulators Urgently Working on Joint Cryptocurrency Regulation: Fed\\'s Quarles Says It\\'s \\'High...\\nU.S. government agencies are urgently working together on a joint regulatory framework for cryptocurrencies, Federal Reserve Vice Chair of Supervision Randal Quarles has confirmed. \"We along with the...\\nnews.bitcoin.com',\n",
       " '',\n",
       " '',\n",
       " '')"
      ]
     },
     "execution_count": 31,
     "metadata": {},
     "output_type": "execute_result"
    }
   ],
   "source": [
    "get_tweet_data(card)"
   ]
  },
  {
   "cell_type": "code",
   "execution_count": 32,
   "metadata": {},
   "outputs": [],
   "source": [
    "tweet_data = []\n",
    "\n",
    "for card in cards:\n",
    "    data = get_tweet_data(card)\n",
    "    if data:\n",
    "        tweet_data.append(data)"
   ]
  },
  {
   "cell_type": "code",
   "execution_count": 33,
   "metadata": {},
   "outputs": [
    {
     "data": {
      "text/plain": [
       "('Cryptoify',\n",
       " '@cryptoify',\n",
       " '2021-05-26T18:18:10.000Z',\n",
       " 'US Regulators Urgently Working on Joint #Cryptocurrency Regulation: Fed\\'s Quarles Says It\\'s \\'High Priority\\' – Regulation #Bitcoin NewsUS Regulators Urgently Working on Joint Cryptocurrency Regulation: Fed\\'s Quarles Says It\\'s \\'High...\\nU.S. government agencies are urgently working together on a joint regulatory framework for cryptocurrencies, Federal Reserve Vice Chair of Supervision Randal Quarles has confirmed. \"We along with the...\\nnews.bitcoin.com',\n",
       " '',\n",
       " '',\n",
       " '')"
      ]
     },
     "execution_count": 33,
     "metadata": {},
     "output_type": "execute_result"
    }
   ],
   "source": [
    "tweet_data[0]"
   ]
  },
  {
   "cell_type": "code",
   "execution_count": 35,
   "metadata": {},
   "outputs": [],
   "source": [
    "data = []\n",
    "tweet_ids = set()\n",
    "last_position = driver.execute_script(\"return window.pageYOffset;\")\n",
    "scrolling = True\n",
    "\n",
    "while scrolling:\n",
    "    page_cards = driver.find_elements_by_xpath('//div[@data-testid=\"tweet\"]')\n",
    "    for card in page_cards[-15:]:\n",
    "        tweet = get_tweet_data(card)\n",
    "        if tweet:\n",
    "            tweet_id = ''.join(tweet)\n",
    "            if tweet_id not in tweet_ids:\n",
    "                tweet_ids.add(tweet_id)\n",
    "                data.append(tweet)\n",
    "            \n",
    "    scroll_attempt = 0\n",
    "    while True:\n",
    "        # check scroll position\n",
    "        driver.execute_script('window.scrollTo(0, document.body.scrollHeight);')\n",
    "        sleep(2)\n",
    "        curr_position = driver.execute_script(\"return window.pageYOffset;\")\n",
    "        if last_position == curr_position:\n",
    "            scroll_attempt += 1\n",
    "            \n",
    "            # end of scroll region\n",
    "            if scroll_attempt >= 3:\n",
    "                scrolling = False\n",
    "                break\n",
    "            else:\n",
    "                sleep(2) # attempt another scroll\n",
    "        else:\n",
    "            last_position = curr_position\n",
    "            break\n",
    "\n",
    "# close the web driver\n",
    "driver.close()"
   ]
  },
  {
   "cell_type": "code",
   "execution_count": 36,
   "metadata": {},
   "outputs": [],
   "source": [
    "with open('scraped_tweets.csv', 'w', newline='', encoding='utf-8') as f:\n",
    "    header = ['UserName', 'Handle', 'Timestamp', 'Text', 'Comments', 'Likes', 'Retweets']\n",
    "    writer = csv.writer(f)\n",
    "    writer.writerow(header)\n",
    "    writer.writerows(data)"
   ]
  },
  {
   "cell_type": "code",
   "execution_count": 37,
   "metadata": {},
   "outputs": [],
   "source": [
    "df = pd.read_csv(\"scraped_tweets.csv\")"
   ]
  },
  {
   "cell_type": "code",
   "execution_count": 39,
   "metadata": {},
   "outputs": [
    {
     "data": {
      "text/plain": [
       "(52, 7)"
      ]
     },
     "execution_count": 39,
     "metadata": {},
     "output_type": "execute_result"
    }
   ],
   "source": [
    "df.shape"
   ]
  },
  {
   "cell_type": "code",
   "execution_count": 41,
   "metadata": {},
   "outputs": [
    {
     "data": {
      "text/html": [
       "<div>\n",
       "<style scoped>\n",
       "    .dataframe tbody tr th:only-of-type {\n",
       "        vertical-align: middle;\n",
       "    }\n",
       "\n",
       "    .dataframe tbody tr th {\n",
       "        vertical-align: top;\n",
       "    }\n",
       "\n",
       "    .dataframe thead th {\n",
       "        text-align: right;\n",
       "    }\n",
       "</style>\n",
       "<table border=\"1\" class=\"dataframe\">\n",
       "  <thead>\n",
       "    <tr style=\"text-align: right;\">\n",
       "      <th></th>\n",
       "      <th>UserName</th>\n",
       "      <th>Handle</th>\n",
       "      <th>Timestamp</th>\n",
       "      <th>Text</th>\n",
       "      <th>Comments</th>\n",
       "      <th>Likes</th>\n",
       "      <th>Retweets</th>\n",
       "    </tr>\n",
       "  </thead>\n",
       "  <tbody>\n",
       "    <tr>\n",
       "      <th>0</th>\n",
       "      <td>Luke Green</td>\n",
       "      <td>@lukusdukus</td>\n",
       "      <td>2021-05-26T18:10:28.000Z</td>\n",
       "      <td>It's inevitable... #Bitcoin \\n@AppleCitar Twee...</td>\n",
       "      <td>NaN</td>\n",
       "      <td>NaN</td>\n",
       "      <td>NaN</td>\n",
       "    </tr>\n",
       "    <tr>\n",
       "      <th>1</th>\n",
       "      <td>Dharmadip Rana</td>\n",
       "      <td>@DharmadipRana</td>\n",
       "      <td>2021-05-26T18:10:27.000Z</td>\n",
       "      <td>En respuesta a \\n@BitcoinBro303PayPal to Let U...</td>\n",
       "      <td>NaN</td>\n",
       "      <td>NaN</td>\n",
       "      <td>NaN</td>\n",
       "    </tr>\n",
       "    <tr>\n",
       "      <th>2</th>\n",
       "      <td>(( ALBASHA ))</td>\n",
       "      <td>@AL_CHART</td>\n",
       "      <td>2021-05-26T18:10:24.000Z</td>\n",
       "      <td>هل مهتم/ة بالعملات الرقميه ؟\\n\\n#بتكوين \\n#Bit...</td>\n",
       "      <td>NaN</td>\n",
       "      <td>NaN</td>\n",
       "      <td>NaN</td>\n",
       "    </tr>\n",
       "    <tr>\n",
       "      <th>3</th>\n",
       "      <td>starz1111</td>\n",
       "      <td>@starz21580282</td>\n",
       "      <td>2021-05-26T18:10:24.000Z</td>\n",
       "      <td>Ignore the #FUD and keep on buying the #dip . ...</td>\n",
       "      <td>NaN</td>\n",
       "      <td>NaN</td>\n",
       "      <td>NaN</td>\n",
       "    </tr>\n",
       "    <tr>\n",
       "      <th>4</th>\n",
       "      <td>NaN</td>\n",
       "      <td>@bkatcap</td>\n",
       "      <td>2021-05-26T18:10:24.000Z</td>\n",
       "      <td>#bitcoin folks are the bestCitar Tweet\\nnaiive...</td>\n",
       "      <td>NaN</td>\n",
       "      <td>NaN</td>\n",
       "      <td>NaN</td>\n",
       "    </tr>\n",
       "    <tr>\n",
       "      <th>5</th>\n",
       "      <td>Julien ROMAN</td>\n",
       "      <td>@JulienROMAN13</td>\n",
       "      <td>2021-05-26T18:10:22.000Z</td>\n",
       "      <td>Mega news: Apple recrute des experts en crypto...</td>\n",
       "      <td>4.0</td>\n",
       "      <td>10.0</td>\n",
       "      <td>51.0</td>\n",
       "    </tr>\n",
       "    <tr>\n",
       "      <th>6</th>\n",
       "      <td>Edd Gimenez</td>\n",
       "      <td>@eddgimenez</td>\n",
       "      <td>2021-05-26T18:10:19.000Z</td>\n",
       "      <td>#Bitcoin Is A Savings Account With An Average ...</td>\n",
       "      <td>NaN</td>\n",
       "      <td>NaN</td>\n",
       "      <td>NaN</td>\n",
       "    </tr>\n",
       "    <tr>\n",
       "      <th>7</th>\n",
       "      <td>News Sentiment Report</td>\n",
       "      <td>@NewsSentiment</td>\n",
       "      <td>2021-05-26T18:10:18.000Z</td>\n",
       "      <td>Analyzed 1277 articles. #Bitcoin #Covid_19News...</td>\n",
       "      <td>NaN</td>\n",
       "      <td>NaN</td>\n",
       "      <td>NaN</td>\n",
       "    </tr>\n",
       "    <tr>\n",
       "      <th>8</th>\n",
       "      <td>Trepy ₿</td>\n",
       "      <td>@Trepyoficial</td>\n",
       "      <td>2021-05-26T18:10:03.000Z</td>\n",
       "      <td>Instagram acaba de activar la función para oc...</td>\n",
       "      <td>NaN</td>\n",
       "      <td>NaN</td>\n",
       "      <td>NaN</td>\n",
       "    </tr>\n",
       "    <tr>\n",
       "      <th>9</th>\n",
       "      <td>aWebAnalysis | Crypto</td>\n",
       "      <td>@aWebAnalysis</td>\n",
       "      <td>2021-05-26T18:10:03.000Z</td>\n",
       "      <td>Bitcoin BTC Current Price:\\n$38,920.17\\n1 Hour...</td>\n",
       "      <td>NaN</td>\n",
       "      <td>NaN</td>\n",
       "      <td>NaN</td>\n",
       "    </tr>\n",
       "  </tbody>\n",
       "</table>\n",
       "</div>"
      ],
      "text/plain": [
       "                UserName          Handle                 Timestamp  \\\n",
       "0             Luke Green     @lukusdukus  2021-05-26T18:10:28.000Z   \n",
       "1         Dharmadip Rana  @DharmadipRana  2021-05-26T18:10:27.000Z   \n",
       "2          (( ALBASHA ))       @AL_CHART  2021-05-26T18:10:24.000Z   \n",
       "3              starz1111  @starz21580282  2021-05-26T18:10:24.000Z   \n",
       "4                    NaN        @bkatcap  2021-05-26T18:10:24.000Z   \n",
       "5           Julien ROMAN  @JulienROMAN13  2021-05-26T18:10:22.000Z   \n",
       "6            Edd Gimenez     @eddgimenez  2021-05-26T18:10:19.000Z   \n",
       "7  News Sentiment Report  @NewsSentiment  2021-05-26T18:10:18.000Z   \n",
       "8                Trepy ₿   @Trepyoficial  2021-05-26T18:10:03.000Z   \n",
       "9  aWebAnalysis | Crypto   @aWebAnalysis  2021-05-26T18:10:03.000Z   \n",
       "\n",
       "                                                Text  Comments  Likes  \\\n",
       "0  It's inevitable... #Bitcoin \\n@AppleCitar Twee...       NaN    NaN   \n",
       "1  En respuesta a \\n@BitcoinBro303PayPal to Let U...       NaN    NaN   \n",
       "2  هل مهتم/ة بالعملات الرقميه ؟\\n\\n#بتكوين \\n#Bit...       NaN    NaN   \n",
       "3  Ignore the #FUD and keep on buying the #dip . ...       NaN    NaN   \n",
       "4  #bitcoin folks are the bestCitar Tweet\\nnaiive...       NaN    NaN   \n",
       "5  Mega news: Apple recrute des experts en crypto...       4.0   10.0   \n",
       "6  #Bitcoin Is A Savings Account With An Average ...       NaN    NaN   \n",
       "7  Analyzed 1277 articles. #Bitcoin #Covid_19News...       NaN    NaN   \n",
       "8   Instagram acaba de activar la función para oc...       NaN    NaN   \n",
       "9  Bitcoin BTC Current Price:\\n$38,920.17\\n1 Hour...       NaN    NaN   \n",
       "\n",
       "   Retweets  \n",
       "0       NaN  \n",
       "1       NaN  \n",
       "2       NaN  \n",
       "3       NaN  \n",
       "4       NaN  \n",
       "5      51.0  \n",
       "6       NaN  \n",
       "7       NaN  \n",
       "8       NaN  \n",
       "9       NaN  "
      ]
     },
     "execution_count": 41,
     "metadata": {},
     "output_type": "execute_result"
    }
   ],
   "source": [
    "df.head(10)"
   ]
  }
 ],
 "metadata": {
  "kernelspec": {
   "display_name": "Python 3",
   "language": "python",
   "name": "python3"
  },
  "language_info": {
   "codemirror_mode": {
    "name": "ipython",
    "version": 3
   },
   "file_extension": ".py",
   "mimetype": "text/x-python",
   "name": "python",
   "nbconvert_exporter": "python",
   "pygments_lexer": "ipython3",
   "version": "3.8.5"
  }
 },
 "nbformat": 4,
 "nbformat_minor": 4
}
